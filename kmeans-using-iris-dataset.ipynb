{
 "cells": [
  {
   "cell_type": "markdown",
   "metadata": {},
   "source": [
    "**Data** <br>\n",
    "The iris data set iris.txt contains 150 data points, each with four predictor variables and one\n",
    "categorical response. The predictors are the width and length of the sepal and petal of flowers and the\n",
    "response is the type of flower. The data is available from the R library datasets and can be accessed with\n",
    "iris once the library is loaded. It is also available at the UCI Machine Learning Repository\n",
    "(https://archive.ics.uci.edu/ml/datasets/Iris ). The response values are only given to see how well a\n",
    "specific method performed and should not be used to build the model.\n"
   ]
  },
  {
   "cell_type": "code",
   "execution_count": 1,
   "metadata": {},
   "outputs": [
    {
     "name": "stdout",
     "output_type": "stream",
     "text": [
      "package 'ggplot2' successfully unpacked and MD5 sums checked\n",
      "\n",
      "The downloaded binary packages are in\n",
      "\tC:\\Users\\Siham\\AppData\\Local\\Temp\\Rtmp2FKDDI\\downloaded_packages\n",
      "package 'purrr' successfully unpacked and MD5 sums checked\n",
      "\n",
      "The downloaded binary packages are in\n",
      "\tC:\\Users\\Siham\\AppData\\Local\\Temp\\Rtmp2FKDDI\\downloaded_packages\n",
      "package 'dplyr' successfully unpacked and MD5 sums checked\n",
      "\n",
      "The downloaded binary packages are in\n",
      "\tC:\\Users\\Siham\\AppData\\Local\\Temp\\Rtmp2FKDDI\\downloaded_packages\n",
      "package 'gridExtra' successfully unpacked and MD5 sums checked\n",
      "\n",
      "The downloaded binary packages are in\n",
      "\tC:\\Users\\Siham\\AppData\\Local\\Temp\\Rtmp2FKDDI\\downloaded_packages\n",
      "package 'cowplot' successfully unpacked and MD5 sums checked\n",
      "\n",
      "The downloaded binary packages are in\n",
      "\tC:\\Users\\Siham\\AppData\\Local\\Temp\\Rtmp2FKDDI\\downloaded_packages\n",
      "package 'corrplot' successfully unpacked and MD5 sums checked\n",
      "\n",
      "The downloaded binary packages are in\n",
      "\tC:\\Users\\Siham\\AppData\\Local\\Temp\\Rtmp2FKDDI\\downloaded_packages\n",
      "package 'cluster' successfully unpacked and MD5 sums checked\n",
      "\n",
      "The downloaded binary packages are in\n",
      "\tC:\\Users\\Siham\\AppData\\Local\\Temp\\Rtmp2FKDDI\\downloaded_packages\n",
      "package 'RColorBrewer' successfully unpacked and MD5 sums checked\n",
      "\n",
      "The downloaded binary packages are in\n",
      "\tC:\\Users\\Siham\\AppData\\Local\\Temp\\Rtmp2FKDDI\\downloaded_packages\n",
      "package 'factoextra' successfully unpacked and MD5 sums checked\n",
      "\n",
      "The downloaded binary packages are in\n",
      "\tC:\\Users\\Siham\\AppData\\Local\\Temp\\Rtmp2FKDDI\\downloaded_packages\n"
     ]
    }
   ],
   "source": [
    "# Installing all of the packages we might need\n",
    "options(warn=-1) # suppress showing warnings\n",
    "install.packages(\"ggplot2\")\n",
    "install.packages(\"purrr\")\n",
    "install.packages(\"dplyr\")\n",
    "install.packages(\"gridExtra\")\n",
    "install.packages(\"cowplot\")\n",
    "install.packages(\"corrplot\")\n",
    "install.packages(\"cluster\")\n",
    "install.packages(\"RColorBrewer\")\n",
    "install.packages(\"factoextra\")"
   ]
  },
  {
   "cell_type": "markdown",
   "metadata": {},
   "source": [
    "# Exploratory data analysis"
   ]
  },
  {
   "cell_type": "markdown",
   "metadata": {},
   "source": [
    "Before we start clusering out data set, we need to first inspect it to see if any data pre-processing is needed. We will first inspect data for missing values then visualize how our predictors or combination of predictors correlate with each other."
   ]
  },
  {
   "cell_type": "code",
   "execution_count": 2,
   "metadata": {},
   "outputs": [],
   "source": [
    "# reading the data set\n",
    "iris <- read.table(\"iris.txt\", header = T)"
   ]
  },
  {
   "cell_type": "code",
   "execution_count": 3,
   "metadata": {},
   "outputs": [
    {
     "data": {
      "text/html": [
       "<table>\n",
       "<thead><tr><th scope=col>Sepal.Length</th><th scope=col>Sepal.Width</th><th scope=col>Petal.Length</th><th scope=col>Petal.Width</th><th scope=col>Species</th></tr></thead>\n",
       "<tbody>\n",
       "\t<tr><td>5.1   </td><td>3.5   </td><td>1.4   </td><td>0.2   </td><td>setosa</td></tr>\n",
       "\t<tr><td>4.9   </td><td>3.0   </td><td>1.4   </td><td>0.2   </td><td>setosa</td></tr>\n",
       "\t<tr><td>4.7   </td><td>3.2   </td><td>1.3   </td><td>0.2   </td><td>setosa</td></tr>\n",
       "\t<tr><td>4.6   </td><td>3.1   </td><td>1.5   </td><td>0.2   </td><td>setosa</td></tr>\n",
       "\t<tr><td>5.0   </td><td>3.6   </td><td>1.4   </td><td>0.2   </td><td>setosa</td></tr>\n",
       "</tbody>\n",
       "</table>\n"
      ],
      "text/latex": [
       "\\begin{tabular}{r|lllll}\n",
       " Sepal.Length & Sepal.Width & Petal.Length & Petal.Width & Species\\\\\n",
       "\\hline\n",
       "\t 5.1    & 3.5    & 1.4    & 0.2    & setosa\\\\\n",
       "\t 4.9    & 3.0    & 1.4    & 0.2    & setosa\\\\\n",
       "\t 4.7    & 3.2    & 1.3    & 0.2    & setosa\\\\\n",
       "\t 4.6    & 3.1    & 1.5    & 0.2    & setosa\\\\\n",
       "\t 5.0    & 3.6    & 1.4    & 0.2    & setosa\\\\\n",
       "\\end{tabular}\n"
      ],
      "text/markdown": [
       "\n",
       "| Sepal.Length | Sepal.Width | Petal.Length | Petal.Width | Species |\n",
       "|---|---|---|---|---|\n",
       "| 5.1    | 3.5    | 1.4    | 0.2    | setosa |\n",
       "| 4.9    | 3.0    | 1.4    | 0.2    | setosa |\n",
       "| 4.7    | 3.2    | 1.3    | 0.2    | setosa |\n",
       "| 4.6    | 3.1    | 1.5    | 0.2    | setosa |\n",
       "| 5.0    | 3.6    | 1.4    | 0.2    | setosa |\n",
       "\n"
      ],
      "text/plain": [
       "  Sepal.Length Sepal.Width Petal.Length Petal.Width Species\n",
       "1 5.1          3.5         1.4          0.2         setosa \n",
       "2 4.9          3.0         1.4          0.2         setosa \n",
       "3 4.7          3.2         1.3          0.2         setosa \n",
       "4 4.6          3.1         1.5          0.2         setosa \n",
       "5 5.0          3.6         1.4          0.2         setosa "
      ]
     },
     "metadata": {},
     "output_type": "display_data"
    },
    {
     "data": {
      "text/plain": [
       "  Sepal.Length    Sepal.Width     Petal.Length    Petal.Width   \n",
       " Min.   :4.300   Min.   :2.000   Min.   :1.000   Min.   :0.100  \n",
       " 1st Qu.:5.100   1st Qu.:2.800   1st Qu.:1.600   1st Qu.:0.300  \n",
       " Median :5.800   Median :3.000   Median :4.350   Median :1.300  \n",
       " Mean   :5.843   Mean   :3.057   Mean   :3.758   Mean   :1.199  \n",
       " 3rd Qu.:6.400   3rd Qu.:3.300   3rd Qu.:5.100   3rd Qu.:1.800  \n",
       " Max.   :7.900   Max.   :4.400   Max.   :6.900   Max.   :2.500  \n",
       "       Species  \n",
       " setosa    :50  \n",
       " versicolor:50  \n",
       " virginica :50  \n",
       "                \n",
       "                \n",
       "                "
      ]
     },
     "metadata": {},
     "output_type": "display_data"
    },
    {
     "name": "stdout",
     "output_type": "stream",
     "text": [
      "The number of missing values is: 0 \n",
      "\n",
      "Flower class: "
     ]
    },
    {
     "data": {
      "text/plain": [
       "            \n",
       "             setosa versicolor virginica\n",
       "  setosa         50          0         0\n",
       "  versicolor      0         50         0\n",
       "  virginica       0          0        50"
      ]
     },
     "metadata": {},
     "output_type": "display_data"
    }
   ],
   "source": [
    "# inspecting the data\n",
    "head(iris,5)\n",
    "\n",
    "# Show summary statistics\n",
    "summary(iris)\n",
    "\n",
    "# inspect if we have any missing values\n",
    "is_na <- sum(is.na(iris))\n",
    "cat(\"The number of missing values is:\", is_na, \"\\n\\n\")\n",
    "\n",
    "# Inspect how many types of flowers we have in our dataset\n",
    "cat(\"Flower class: \")\n",
    "table(iris[,5], iris$Species)"
   ]
  },
  {
   "cell_type": "markdown",
   "metadata": {},
   "source": [
    "We have 3 types of iris flower in our dataset"
   ]
  },
  {
   "cell_type": "code",
   "execution_count": 4,
   "metadata": {},
   "outputs": [
    {
     "name": "stderr",
     "output_type": "stream",
     "text": [
      "`geom_smooth()` using formula 'y ~ x'\n",
      "`geom_smooth()` using formula 'y ~ x'\n"
     ]
    },
    {
     "data": {
      "image/png": "[encoded data removed]",
      "text/plain": [
       "plot without title"
      ]
     },
     "metadata": {},
     "output_type": "display_data"
    }
   ],
   "source": [
    "# let's visualize our data\n",
    "library(ggplot2)\n",
    "library(gridExtra)\n",
    "\n",
    "plot1 <- ggplot(iris, aes(x=Petal.Length, y=Petal.Width, color = Species)) + geom_point() +\n",
    "        geom_smooth(method='lm', color='black', se=F)\n",
    "plot2 <- ggplot(iris, aes(x=Sepal.Length, y=Sepal.Width, color = Species)) + geom_point() +\n",
    "        geom_smooth(method='lm', color='black', se=F)\n",
    "\n",
    "grid.arrange(plot1, plot2)\n"
   ]
  },
  {
   "cell_type": "markdown",
   "metadata": {},
   "source": [
    "- From the plots above, we can clearly see a high correlation between petal length and petal width. Our scatter plot can be easliy clustered into 3 clusters. However, measuring the correlation coeff of all the features in our data will help us pick the predictors that would best cluster our data\n",
    "\n",
    "- In the second plot, we cant differentiate between versicolor and virginica iris types.\n"
   ]
  },
  {
   "cell_type": "code",
   "execution_count": 5,
   "metadata": {},
   "outputs": [
    {
     "name": "stderr",
     "output_type": "stream",
     "text": [
      "corrplot 0.84 loaded\n"
     ]
    },
    {
     "data": {
      "image/png": "[encoded data removed]",
      "text/plain": [
       "Plot with title \"\""
      ]
     },
     "metadata": {},
     "output_type": "display_data"
    }
   ],
   "source": [
    "# let's get the correlation matrix between all of our predictors and plot it\n",
    "library(corrplot)\n",
    "library(RColorBrewer)\n",
    "\n",
    "# Correlation matrix\n",
    "M <-cor(iris[, -5])\n",
    "\n",
    "corrplot(M, method=\"number\")"
   ]
  },
  {
   "cell_type": "markdown",
   "metadata": {},
   "source": [
    "- The correlation matrix futher shows that Petal.Width and Petal Length are highly correction (0.96) which matches our scatter plot\n",
    "- We can also see that Petal Length and Sepal Lenght are also highly correlated with corr coeff of 0.87. <br>"
   ]
  },
  {
   "cell_type": "markdown",
   "metadata": {},
   "source": [
    "# Kmeans clustering Analysis"
   ]
  },
  {
   "cell_type": "markdown",
   "metadata": {},
   "source": [
    "- To cluster our data, we experiment a little bit using the following and for different values of k <br>\n",
    "\n",
    "    1. We will first use our data as is <br>\n",
    "        1.1. Cluster using all the features in the data <br>\n",
    "        1.2. Cluster using Petal Width and Petal Length since they're highly correlated <br>\n",
    "    2. We will scale our data <br>\n",
    "        2.1. Cluster using Petal Width and Petal Length since they're highly correlated"
   ]
  },
  {
   "cell_type": "markdown",
   "metadata": {},
   "source": [
    "## Cluster using all the features in the data"
   ]
  },
  {
   "cell_type": "code",
   "execution_count": 6,
   "metadata": {},
   "outputs": [
    {
     "data": {
      "text/plain": [
       "   \n",
       "    setosa versicolor virginica\n",
       "  1     50          3         0\n",
       "  2      0         47        50"
      ]
     },
     "metadata": {},
     "output_type": "display_data"
    },
    {
     "data": {
      "text/plain": [
       "   \n",
       "    setosa versicolor virginica\n",
       "  1      0         48        14\n",
       "  2     50          0         0\n",
       "  3      0          2        36"
      ]
     },
     "metadata": {},
     "output_type": "display_data"
    },
    {
     "data": {
      "text/plain": [
       "   \n",
       "    setosa versicolor virginica\n",
       "  1     50          0         0\n",
       "  2      0          0        32\n",
       "  3      0         23        17\n",
       "  4      0         27         1"
      ]
     },
     "metadata": {},
     "output_type": "display_data"
    },
    {
     "data": {
      "text/plain": [
       "   \n",
       "    setosa versicolor virginica\n",
       "  1      0          0        24\n",
       "  2     50          0         0\n",
       "  3      0         24         1\n",
       "  4      0          0        12\n",
       "  5      0         26        13"
      ]
     },
     "metadata": {},
     "output_type": "display_data"
    },
    {
     "data": {
      "text/plain": [
       "   \n",
       "    setosa versicolor virginica\n",
       "  1      0         24         1\n",
       "  2      0          0        24\n",
       "  3     22          0         0\n",
       "  4      0         26        13\n",
       "  5     28          0         0\n",
       "  6      0          0        12"
      ]
     },
     "metadata": {},
     "output_type": "display_data"
    },
    {
     "data": {
      "text/plain": [
       "   \n",
       "    setosa versicolor virginica\n",
       "  1     28          0         0\n",
       "  2      0          0        22\n",
       "  3      0          4        15\n",
       "  4      0         27         1\n",
       "  5      0         19         0\n",
       "  6     22          0         0\n",
       "  7      0          0        12"
      ]
     },
     "metadata": {},
     "output_type": "display_data"
    }
   ],
   "source": [
    "# Set a seed to reproduce results\n",
    "set.seed(42)\n",
    "\n",
    "# Build a kmeans model on full set of features\n",
    "model_km2 <- kmeans(iris[,1:4], centers=2, nstart = 25)\n",
    "model_km3 <- kmeans(iris[,1:4], centers=3, nstart = 25)\n",
    "model_km4 <- kmeans(iris[,1:4], centers=4, nstart = 25)\n",
    "model_km5 <- kmeans(iris[,1:4], centers=5, nstart = 25)\n",
    "model_km6 <- kmeans(iris[,1:4], centers=6, nstart = 25)\n",
    "model_km7 <- kmeans(iris[,1:4], centers=7, nstart = 25)\n",
    "\n",
    "# Extract the cluster vector from the model\n",
    "clust_km2 <- model_km2$cluster\n",
    "clust_km3 <- model_km3$cluster\n",
    "clust_km4 <- model_km4$cluster\n",
    "clust_km5 <- model_km5$cluster\n",
    "clust_km6 <- model_km6$cluster\n",
    "clust_km7 <- model_km7$cluster\n",
    "\n",
    "# Create a new data frame with the cluster assignment\n",
    "suppressWarnings(suppressMessages(library(dplyr)))\n",
    "iris_km2 <- mutate(iris[,1:4], cluster=clust_km2)\n",
    "iris_km3 <- mutate(iris[,1:4], cluster=clust_km3)\n",
    "iris_km4 <- mutate(iris[,1:4], cluster=clust_km4)\n",
    "iris_km5 <- mutate(iris[,1:4], cluster=clust_km5)\n",
    "iris_km6 <- mutate(iris[,1:4], cluster=clust_km6)\n",
    "iris_km7 <- mutate(iris[,1:4], cluster=clust_km7)\n",
    "\n",
    "# cluster assignment vs the actual flower class\n",
    "table(iris_km2$cluster, iris$Species)\n",
    "table(iris_km3$cluster, iris$Species)\n",
    "table(iris_km4$cluster, iris$Species)\n",
    "table(iris_km5$cluster, iris$Species)\n",
    "table(iris_km6$cluster, iris$Species)\n",
    "table(iris_km7$cluster, iris$Species)"
   ]
  },
  {
   "cell_type": "markdown",
   "metadata": {},
   "source": [
    "- Even though we know we have 3 different classes of the iris flowers, we are able to see a better clustering for k = 7 where our accuracy is about `97%`. However, for k = 3, our accuracy is `89.3%`\n",
    "\n",
    "- For k=2, we can perfectly cluster our data into two clusters, but since we know we have 3 different flower classes, there is no way to diffentiate between versicolor and virginica\n",
    "\n",
    "- Let's visualize these 3 cases by plotting petal length vs petal width"
   ]
  },
  {
   "cell_type": "code",
   "execution_count": 7,
   "metadata": {},
   "outputs": [
    {
     "data": {
      "image/png": "[encoded data removed]",
      "text/plain": [
       "plot without title"
      ]
     },
     "metadata": {},
     "output_type": "display_data"
    }
   ],
   "source": [
    "# plot for k =2\n",
    "set.seed(42)\n",
    "plot_k2 <- ggplot(iris_km2, aes(iris_km2$Petal.Length, y= iris_km2$Petal.Width, color=factor(cluster))) + geom_point()\n",
    "\n",
    "# plot for k=3\n",
    "plot_k3 <- ggplot(iris_km3, aes(iris_km3$Petal.Length, y= iris_km3$Petal.Width, color=factor(cluster))) + geom_point()\n",
    "\n",
    "# plot for k=7\n",
    "plot_k7 <- ggplot(iris_km7, aes(iris_km7$Petal.Length, y= iris_km7$Petal.Width, color=factor(cluster))) + geom_point()\n",
    "\n",
    "grid.arrange(plot_k2, plot_k3, plot_k7)"
   ]
  },
  {
   "cell_type": "code",
   "execution_count": 8,
   "metadata": {},
   "outputs": [
    {
     "data": {
      "image/png": "[encoded data removed]",
      "text/plain": [
       "plot without title"
      ]
     },
     "metadata": {},
     "output_type": "display_data"
    }
   ],
   "source": [
    "# plot for k =2\n",
    "set.seed(42)\n",
    "plot_k2 <- ggplot(iris_km2, aes(iris_km2$Petal.Length, y= iris_km2$Sepal.Length, color=factor(cluster))) + geom_point()\n",
    "\n",
    "# plot for k=3\n",
    "plot_k3 <- ggplot(iris_km3, aes(iris_km3$Petal.Length, y= iris_km3$Sepal.Length, color=factor(cluster))) + geom_point()\n",
    "\n",
    "# plot for k=7\n",
    "plot_k7 <- ggplot(iris_km7, aes(iris_km7$Petal.Length, y= iris_km7$Sepal.Length, color=factor(cluster))) + geom_point()\n",
    "\n",
    "grid.arrange(plot_k2, plot_k3, plot_k7)"
   ]
  },
  {
   "cell_type": "markdown",
   "metadata": {},
   "source": [
    "Using `Petal length and width` or `Petal length and Sepal Length` would be more appropriate to cluster our data"
   ]
  },
  {
   "cell_type": "markdown",
   "metadata": {},
   "source": [
    "**Let's generate the elbow plot**"
   ]
  },
  {
   "cell_type": "markdown",
   "metadata": {},
   "source": [
    "To compute and plot the elbow plot, one can use `fviz_nbclust` from `factoextra` package"
   ]
  },
  {
   "cell_type": "code",
   "execution_count": 9,
   "metadata": {},
   "outputs": [
    {
     "data": {
      "image/png": "[encoded data removed]",
      "text/plain": [
       "plot without title"
      ]
     },
     "metadata": {},
     "output_type": "display_data"
    }
   ],
   "source": [
    "suppressWarnings(suppressMessages(library(factoextra)))\n",
    "set.seed(42)\n",
    "fviz_nbclust(iris[,1:4], kmeans, method = \"wss\")"
   ]
  },
  {
   "cell_type": "markdown",
   "metadata": {},
   "source": [
    "- The results from the elbow plot using `fviz_nbclust` method above suggest that 2 is the optimal number of clusters as it appears to be the bend in the elbow.\n",
    "\n",
    "- However, we can still see an improvement in the total within sum of the squares from `k=2` to `k=3`. Even if we didnt have a prior knowledge of how many iris flower classes we have, using `k = 3` does provide us with better clustering results. So, the recommended  number of clusters is `k=3` <br>\n"
   ]
  },
  {
   "cell_type": "markdown",
   "metadata": {},
   "source": [
    "<strong>Let's create a dataFrame of the total within cluster distance and plot it to see if we can notice any diffrences between the `fviz_nbclust` vs our manual method's performance </strong>"
   ]
  },
  {
   "cell_type": "code",
   "execution_count": 10,
   "metadata": {},
   "outputs": [
    {
     "name": "stdout",
     "output_type": "stream",
     "text": [
      "   k tot_withinss\n",
      "1  2    152.34795\n",
      "2  3     78.85144\n",
      "3  4     71.75951\n",
      "4  5     49.86225\n",
      "5  6     39.03999\n",
      "6  7     37.25063\n",
      "7  8     32.55390\n",
      "8  9     27.98169\n",
      "9 10     29.77365\n"
     ]
    },
    {
     "data": {
      "image/png": "[encoded data removed]",
      "text/plain": [
       "plot without title"
      ]
     },
     "metadata": {},
     "output_type": "display_data"
    }
   ],
   "source": [
    "# Let's plot the elbow plot manually\n",
    "set.seed(42)\n",
    "library(purrr)\n",
    "tot_withinss <- map_dbl(2:10, function(k){\n",
    "    \n",
    "    model <- kmeans(iris[,1:4], centers = k)\n",
    "    model$tot.withinss\n",
    "\n",
    "})\n",
    "\n",
    "elbow_df <- data.frame(\n",
    "    k = 2:10,\n",
    "    tot_withinss = tot_withinss\n",
    ")\n",
    "\n",
    "print(elbow_df)\n",
    "\n",
    "\n",
    "# Generating the elbow plot\n",
    "\n",
    "ggplot(elbow_df, aes(x=k, y=tot_withinss)) + geom_line() + geom_vline(xintercept=3, linetype=\"dashed\", \n",
    "                color = \"blue\", size=1) +\n",
    "scale_x_continuous(breaks= 2:10)"
   ]
  },
  {
   "cell_type": "markdown",
   "metadata": {},
   "source": [
    "We can clearly see a lot of improvement from k=2 to k=3 and k=4"
   ]
  },
  {
   "cell_type": "markdown",
   "metadata": {},
   "source": [
    "- Another method widely used in determining the optimal number of clusters is the Silhouette method. The average silhouette width approach measures the quality of a clustering. That is, it determines how well each observation lies within its cluster. A high average silhouette width indicates a good clustering."
   ]
  },
  {
   "cell_type": "code",
   "execution_count": 11,
   "metadata": {},
   "outputs": [
    {
     "data": {
      "text/html": [
       "<ol class=list-inline>\n",
       "\t<li>0.798140488428623</li>\n",
       "\t<li>0.417319921540934</li>\n",
       "\t<li>0.451105060434012</li>\n",
       "</ol>\n"
      ],
      "text/latex": [
       "\\begin{enumerate*}\n",
       "\\item 0.798140488428623\n",
       "\\item 0.417319921540934\n",
       "\\item 0.451105060434012\n",
       "\\end{enumerate*}\n"
      ],
      "text/markdown": [
       "1. 0.798140488428623\n",
       "2. 0.417319921540934\n",
       "3. 0.451105060434012\n",
       "\n",
       "\n"
      ],
      "text/plain": [
       "[1] 0.7981405 0.4173199 0.4511051"
      ]
     },
     "metadata": {},
     "output_type": "display_data"
    },
    {
     "data": {
      "image/png": "[encoded data removed]",
      "text/plain": [
       "Plot with title \"Silhouette plot of pam(x = iris[, 1:4], k = 3)\""
      ]
     },
     "metadata": {},
     "output_type": "display_data"
    }
   ],
   "source": [
    "library(cluster)\n",
    "set.seed(42)\n",
    "pam_km3 <- pam(iris[,1:4], k=3)\n",
    "\n",
    "pam_km3$silinfo$clus.avg.widths\n",
    "sil_plot <- silhouette(pam_km3)\n",
    "plot(sil_plot)\n"
   ]
  },
  {
   "cell_type": "markdown",
   "metadata": {},
   "source": [
    "An average is well above zero means that most observation are well matched to their clusters"
   ]
  },
  {
   "cell_type": "markdown",
   "metadata": {},
   "source": [
    "## Cluster using Petal Width and Petal Length since they're highly correlated"
   ]
  },
  {
   "cell_type": "code",
   "execution_count": 12,
   "metadata": {},
   "outputs": [
    {
     "data": {
      "text/plain": [
       "   \n",
       "    setosa versicolor virginica\n",
       "  1     50          1         0\n",
       "  2      0         49        50"
      ]
     },
     "metadata": {},
     "output_type": "display_data"
    },
    {
     "data": {
      "text/plain": [
       "   \n",
       "    setosa versicolor virginica\n",
       "  1      0          2        46\n",
       "  2      0         48         4\n",
       "  3     50          0         0"
      ]
     },
     "metadata": {},
     "output_type": "display_data"
    },
    {
     "data": {
      "text/plain": [
       "   \n",
       "    setosa versicolor virginica\n",
       "  1     50          0         0\n",
       "  2      0         26         0\n",
       "  3      0          0        35\n",
       "  4      0         24        15"
      ]
     },
     "metadata": {},
     "output_type": "display_data"
    },
    {
     "data": {
      "text/plain": [
       "   \n",
       "    setosa versicolor virginica\n",
       "  1      0         28         7\n",
       "  2     50          0         0\n",
       "  3      0         22         0\n",
       "  4      0          0        13\n",
       "  5      0          0        30"
      ]
     },
     "metadata": {},
     "output_type": "display_data"
    },
    {
     "data": {
      "text/plain": [
       "   \n",
       "    setosa versicolor virginica\n",
       "  1      0         26         1\n",
       "  2      0          0        22\n",
       "  3     50          0         0\n",
       "  4      0          5        16\n",
       "  5      0          0        11\n",
       "  6      0         19         0"
      ]
     },
     "metadata": {},
     "output_type": "display_data"
    },
    {
     "data": {
      "text/plain": [
       "   \n",
       "    setosa versicolor virginica\n",
       "  1      0          3        18\n",
       "  2      0         18         0\n",
       "  3      0          0        10\n",
       "  4      0          0        21\n",
       "  5     50          0         0\n",
       "  6      0          7         0\n",
       "  7      0         22         1"
      ]
     },
     "metadata": {},
     "output_type": "display_data"
    }
   ],
   "source": [
    "# Set a seed to reproduce results\n",
    "set.seed(42)\n",
    "\n",
    "# Build a kmeans model using petal length and petal witdth\n",
    "model_km2 <- kmeans(iris[,3:4], centers=2, nstart = 25)\n",
    "model_km3 <- kmeans(iris[,3:4], centers=3, nstart = 25)\n",
    "model_km4 <- kmeans(iris[,3:4], centers=4, nstart = 25)\n",
    "model_km5 <- kmeans(iris[,3:4], centers=5, nstart = 25)\n",
    "model_km6 <- kmeans(iris[,3:4], centers=6, nstart = 25)\n",
    "model_km7 <- kmeans(iris[,3:4], centers=7, nstart = 25)\n",
    "\n",
    "# Extract the cluster vector from the model\n",
    "clust_km2 <- model_km2$cluster\n",
    "clust_km3 <- model_km3$cluster\n",
    "clust_km4 <- model_km4$cluster\n",
    "clust_km5 <- model_km5$cluster\n",
    "clust_km6 <- model_km6$cluster\n",
    "clust_km7 <- model_km7$cluster\n",
    "\n",
    "# Create a new data frame with the cluster assignment\n",
    "suppressWarnings(suppressMessages(library(dplyr)))\n",
    "iris_km2 <- mutate(iris[,3:4], cluster=clust_km2)\n",
    "iris_km3 <- mutate(iris[,3:4], cluster=clust_km3)\n",
    "iris_km4 <- mutate(iris[,3:4], cluster=clust_km4)\n",
    "iris_km5 <- mutate(iris[,3:4], cluster=clust_km5)\n",
    "iris_km6 <- mutate(iris[,3:4], cluster=clust_km6)\n",
    "iris_km7 <- mutate(iris[,3:4], cluster=clust_km7)\n",
    "\n",
    "# cluster assignment vs the actual flower class\n",
    "table(iris_km2$cluster, iris$Species)\n",
    "table(iris_km3$cluster, iris$Species)\n",
    "table(iris_km4$cluster, iris$Species)\n",
    "table(iris_km5$cluster, iris$Species)\n",
    "table(iris_km6$cluster, iris$Species)\n",
    "table(iris_km7$cluster, iris$Species)"
   ]
  },
  {
   "cell_type": "markdown",
   "metadata": {},
   "source": [
    "For `k=2`, we can perfectly cluster our data into two clusters, but since we know we have 3 different flower classes, there is no way to diffentiate between versicolor and virginica\n",
    "\n",
    "For `k = 3`, setosa is perfectly clusters, while we are able to cluster 48/50 versicolor and 46/50 of verginica. Our clustering accuracy is `96%`\n",
    "\n",
    "Let's visualize these two cases"
   ]
  },
  {
   "cell_type": "code",
   "execution_count": 13,
   "metadata": {},
   "outputs": [
    {
     "data": {
      "image/png": "[encoded data removed]",
      "text/plain": [
       "plot without title"
      ]
     },
     "metadata": {},
     "output_type": "display_data"
    }
   ],
   "source": [
    "set.seed(42)\n",
    "# plot for k =2\n",
    "plot_k2 <- ggplot(iris_km2, aes(iris_km2$Petal.Length, y= iris_km2$Petal.Width, color=factor(cluster))) + geom_point()\n",
    "\n",
    "# plot for k=3\n",
    "plot_k3 <- ggplot(iris_km3, aes(iris_km3$Petal.Length, y= iris_km3$Petal.Width, color=factor(cluster))) + geom_point()\n",
    "\n",
    "grid.arrange(plot_k2, plot_k3)"
   ]
  },
  {
   "cell_type": "code",
   "execution_count": 14,
   "metadata": {},
   "outputs": [
    {
     "name": "stdout",
     "output_type": "stream",
     "text": [
      "   k tot_withinss\n",
      "1  2    86.390220\n",
      "2  3    31.412886\n",
      "3  4    30.443013\n",
      "4  5    14.067950\n",
      "5  6    13.010934\n",
      "6  7    18.100349\n",
      "7  8     8.308250\n",
      "8  9     8.220004\n",
      "9 10     6.614628\n"
     ]
    },
    {
     "data": {
      "image/png": "[encoded data removed]",
      "text/plain": [
       "plot without title"
      ]
     },
     "metadata": {},
     "output_type": "display_data"
    }
   ],
   "source": [
    "# fviz_nbclust(iris[,3:4], kmeans, method = \"wss\")\n",
    "# Let's plot the elbow plot manually\n",
    "set.seed(42)\n",
    "library(purrr)\n",
    "tot_withinss <- map_dbl(2:10, function(k){\n",
    "    \n",
    "    model <- kmeans(iris[,3:4], centers = k)\n",
    "    model$tot.withinss\n",
    "\n",
    "})\n",
    "\n",
    "elbow_df <- data.frame(\n",
    "    k = 2:10,\n",
    "    tot_withinss = tot_withinss\n",
    ")\n",
    "\n",
    "print(elbow_df)\n",
    "\n",
    "\n",
    "# Generating the elbow plot\n",
    "\n",
    "ggplot(elbow_df, aes(x=k, y=tot_withinss)) + geom_line() + geom_vline(xintercept=3, linetype=\"dashed\", \n",
    "                color = \"blue\", size=1) +\n",
    "scale_x_continuous(breaks= 2:10)"
   ]
  },
  {
   "cell_type": "markdown",
   "metadata": {},
   "source": [
    "Looking at the elbow plot, we can see that from `k=2` to `k=3`, we can still see an improvement in the total within sum of the squares but from 3 to 4 and 4 to 5, that change is marginal"
   ]
  },
  {
   "cell_type": "code",
   "execution_count": 15,
   "metadata": {},
   "outputs": [
    {
     "data": {
      "text/html": [
       "<ol class=list-inline>\n",
       "\t<li>0.920280531759281</li>\n",
       "\t<li>0.549010417810621</li>\n",
       "\t<li>0.510369061111287</li>\n",
       "</ol>\n"
      ],
      "text/latex": [
       "\\begin{enumerate*}\n",
       "\\item 0.920280531759281\n",
       "\\item 0.549010417810621\n",
       "\\item 0.510369061111287\n",
       "\\end{enumerate*}\n"
      ],
      "text/markdown": [
       "1. 0.920280531759281\n",
       "2. 0.549010417810621\n",
       "3. 0.510369061111287\n",
       "\n",
       "\n"
      ],
      "text/plain": [
       "[1] 0.9202805 0.5490104 0.5103691"
      ]
     },
     "metadata": {},
     "output_type": "display_data"
    },
    {
     "data": {
      "image/png": "[encoded data removed]",
      "text/plain": [
       "Plot with title \"Silhouette plot of pam(x = iris[, 3:4], k = 3)\""
      ]
     },
     "metadata": {},
     "output_type": "display_data"
    }
   ],
   "source": [
    "set.seed(42)\n",
    "library(cluster)\n",
    "pam_km3 <- pam(iris[,3:4], k=3)\n",
    "\n",
    "pam_km3$silinfo$clus.avg.widths\n",
    "sil_plot <- silhouette(pam_km3)\n",
    "plot(sil_plot)\n"
   ]
  },
  {
   "cell_type": "markdown",
   "metadata": {},
   "source": [
    "**An average silhouette width when using only Petal length and Petal width as predictors has improved from 0.55 to 0.66. This means that using only these two features we can almost guarantee that most observation are well matched to their clusters**"
   ]
  },
  {
   "cell_type": "markdown",
   "metadata": {},
   "source": [
    "## Using scaled data"
   ]
  },
  {
   "cell_type": "markdown",
   "metadata": {},
   "source": [
    "### Kmeans Cluster using Petal Width and Petal Length"
   ]
  },
  {
   "cell_type": "code",
   "execution_count": 16,
   "metadata": {},
   "outputs": [
    {
     "data": {
      "text/html": [
       "<table>\n",
       "<thead><tr><th scope=col>Sepal.Length</th><th scope=col>Sepal.Width</th><th scope=col>Petal.Length</th><th scope=col>Petal.Width</th></tr></thead>\n",
       "<tbody>\n",
       "\t<tr><td>-0.8976739 </td><td> 1.01560199</td><td>-1.335752  </td><td>-1.311052  </td></tr>\n",
       "\t<tr><td>-1.1392005 </td><td>-0.13153881</td><td>-1.335752  </td><td>-1.311052  </td></tr>\n",
       "\t<tr><td>-1.3807271 </td><td> 0.32731751</td><td>-1.392399  </td><td>-1.311052  </td></tr>\n",
       "\t<tr><td>-1.5014904 </td><td> 0.09788935</td><td>-1.279104  </td><td>-1.311052  </td></tr>\n",
       "\t<tr><td>-1.0184372 </td><td> 1.24503015</td><td>-1.335752  </td><td>-1.311052  </td></tr>\n",
       "</tbody>\n",
       "</table>\n"
      ],
      "text/latex": [
       "\\begin{tabular}{r|llll}\n",
       " Sepal.Length & Sepal.Width & Petal.Length & Petal.Width\\\\\n",
       "\\hline\n",
       "\t -0.8976739  &  1.01560199 & -1.335752   & -1.311052  \\\\\n",
       "\t -1.1392005  & -0.13153881 & -1.335752   & -1.311052  \\\\\n",
       "\t -1.3807271  &  0.32731751 & -1.392399   & -1.311052  \\\\\n",
       "\t -1.5014904  &  0.09788935 & -1.279104   & -1.311052  \\\\\n",
       "\t -1.0184372  &  1.24503015 & -1.335752   & -1.311052  \\\\\n",
       "\\end{tabular}\n"
      ],
      "text/markdown": [
       "\n",
       "| Sepal.Length | Sepal.Width | Petal.Length | Petal.Width |\n",
       "|---|---|---|---|\n",
       "| -0.8976739  |  1.01560199 | -1.335752   | -1.311052   |\n",
       "| -1.1392005  | -0.13153881 | -1.335752   | -1.311052   |\n",
       "| -1.3807271  |  0.32731751 | -1.392399   | -1.311052   |\n",
       "| -1.5014904  |  0.09788935 | -1.279104   | -1.311052   |\n",
       "| -1.0184372  |  1.24503015 | -1.335752   | -1.311052   |\n",
       "\n"
      ],
      "text/plain": [
       "  Sepal.Length Sepal.Width Petal.Length Petal.Width\n",
       "1 -0.8976739    1.01560199 -1.335752    -1.311052  \n",
       "2 -1.1392005   -0.13153881 -1.335752    -1.311052  \n",
       "3 -1.3807271    0.32731751 -1.392399    -1.311052  \n",
       "4 -1.5014904    0.09788935 -1.279104    -1.311052  \n",
       "5 -1.0184372    1.24503015 -1.335752    -1.311052  "
      ]
     },
     "metadata": {},
     "output_type": "display_data"
    }
   ],
   "source": [
    "iris.scaled = scale(iris[,1:4], scale = T)\n",
    "head(iris.scaled, 5)"
   ]
  },
  {
   "cell_type": "code",
   "execution_count": 17,
   "metadata": {},
   "outputs": [
    {
     "data": {
      "text/plain": [
       "   \n",
       "    setosa versicolor virginica\n",
       "  1     50          0         0\n",
       "  2      0         50        50"
      ]
     },
     "metadata": {},
     "output_type": "display_data"
    },
    {
     "data": {
      "text/plain": [
       "   \n",
       "    setosa versicolor virginica\n",
       "  1      0          2        46\n",
       "  2      0         48         4\n",
       "  3     50          0         0"
      ]
     },
     "metadata": {},
     "output_type": "display_data"
    },
    {
     "data": {
      "text/plain": [
       "   \n",
       "    setosa versicolor virginica\n",
       "  1      0          0        27\n",
       "  2      0         42         0\n",
       "  3      0          8        23\n",
       "  4     50          0         0"
      ]
     },
     "metadata": {},
     "output_type": "display_data"
    },
    {
     "data": {
      "text/plain": [
       "   \n",
       "    setosa versicolor virginica\n",
       "  1      0          0        26\n",
       "  2      0         23         0\n",
       "  3      0         24         4\n",
       "  4      0          3        20\n",
       "  5     50          0         0"
      ]
     },
     "metadata": {},
     "output_type": "display_data"
    },
    {
     "data": {
      "text/plain": [
       "   \n",
       "    setosa versicolor virginica\n",
       "  1      0         25         0\n",
       "  2      0          0        20\n",
       "  3      0          0         8\n",
       "  4     50          0         0\n",
       "  5      0         23         4\n",
       "  6      0          2        18"
      ]
     },
     "metadata": {},
     "output_type": "display_data"
    },
    {
     "data": {
      "text/plain": [
       "   \n",
       "    setosa versicolor virginica\n",
       "  1      0         21         0\n",
       "  2      0         16         4\n",
       "  3      0          0         8\n",
       "  4      0         11         0\n",
       "  5      0          2        18\n",
       "  6      0          0        20\n",
       "  7     50          0         0"
      ]
     },
     "metadata": {},
     "output_type": "display_data"
    }
   ],
   "source": [
    "# Set a seed to reproduce results\n",
    "set.seed(42)\n",
    "\n",
    "# Build a kmeans model using petal length and petal witdth\n",
    "model_km2_scaled <- kmeans(iris.scaled[,3:4], centers=2, nstart = 25)\n",
    "model_km3_scaled <- kmeans(iris.scaled[,3:4], centers=3, nstart = 25)\n",
    "model_km4_scaled <- kmeans(iris.scaled[,3:4], centers=4, nstart = 25)\n",
    "model_km5_scaled <- kmeans(iris.scaled[,3:4], centers=5, nstart = 25)\n",
    "model_km6_scaled <- kmeans(iris.scaled[,3:4], centers=6, nstart = 25)\n",
    "model_km7_scaled <- kmeans(iris.scaled[,3:4], centers=7, nstart = 25)\n",
    "\n",
    "# cluster assignment vs the actual flower class\n",
    "table(model_km2_scaled$cluster, iris$Species)\n",
    "table(model_km3_scaled$cluster, iris$Species)\n",
    "table(model_km4_scaled$cluster, iris$Species)\n",
    "table(model_km5_scaled$cluster, iris$Species)\n",
    "table(model_km6_scaled$cluster, iris$Species)\n",
    "table(model_km7_scaled$cluster, iris$Species)"
   ]
  },
  {
   "cell_type": "code",
   "execution_count": 18,
   "metadata": {},
   "outputs": [],
   "source": [
    "# elbow plot for scaled data\n",
    "# fviz_nbclust(iris.scaled[,3:4], kmeans, method = \"wss\")"
   ]
  },
  {
   "cell_type": "code",
   "execution_count": 19,
   "metadata": {},
   "outputs": [
    {
     "name": "stdout",
     "output_type": "stream",
     "text": [
      "   k tot_withinss\n",
      "1  2    53.807656\n",
      "2  3    17.906783\n",
      "3  4    17.179024\n",
      "4  5     9.143840\n",
      "5  6     8.445601\n",
      "6  7    11.199872\n",
      "7  8     5.227006\n",
      "8  9     5.317271\n",
      "9 10     4.092307\n"
     ]
    },
    {
     "data": {
      "image/png": "[encoded data removed]",
      "text/plain": [
       "plot without title"
      ]
     },
     "metadata": {},
     "output_type": "display_data"
    }
   ],
   "source": [
    "# Let's plot the elbow plot manually\n",
    "set.seed(42)\n",
    "library(purrr)\n",
    "tot_withinss <- map_dbl(2:10, function(k){\n",
    "    \n",
    "    model <- kmeans(iris.scaled[,3:4], centers = k)\n",
    "    model$tot.withinss\n",
    "\n",
    "})\n",
    "\n",
    "elbow_df <- data.frame(\n",
    "    k = 2:10,\n",
    "    tot_withinss = tot_withinss\n",
    ")\n",
    "\n",
    "print(elbow_df)\n",
    "\n",
    "\n",
    "# Generating the elbow plot\n",
    "ggplot(elbow_df, aes(x=k, y=tot_withinss)) + geom_line() + geom_vline(xintercept=3, linetype=\"dashed\", \n",
    "                color = \"blue\", size=1) +\n",
    "scale_x_continuous(breaks= 2:10)"
   ]
  },
  {
   "cell_type": "markdown",
   "metadata": {},
   "source": [
    "The optimal k occurs at the bend of the elbow"
   ]
  },
  {
   "cell_type": "code",
   "execution_count": 20,
   "metadata": {},
   "outputs": [
    {
     "data": {
      "text/html": [
       "<ol class=list-inline>\n",
       "\t<li>0.904515916970755</li>\n",
       "\t<li>0.60381527768412</li>\n",
       "\t<li>0.510323050865118</li>\n",
       "</ol>\n"
      ],
      "text/latex": [
       "\\begin{enumerate*}\n",
       "\\item 0.904515916970755\n",
       "\\item 0.60381527768412\n",
       "\\item 0.510323050865118\n",
       "\\end{enumerate*}\n"
      ],
      "text/markdown": [
       "1. 0.904515916970755\n",
       "2. 0.60381527768412\n",
       "3. 0.510323050865118\n",
       "\n",
       "\n"
      ],
      "text/plain": [
       "[1] 0.9045159 0.6038153 0.5103231"
      ]
     },
     "metadata": {},
     "output_type": "display_data"
    },
    {
     "data": {
      "image/png": "[encoded data removed]",
      "text/plain": [
       "Plot with title \"Silhouette plot of pam(x = iris.scaled[, 3:4], k = 3)\""
      ]
     },
     "metadata": {},
     "output_type": "display_data"
    }
   ],
   "source": [
    "set.seed(42)\n",
    "library(cluster)\n",
    "pam_km3_scaled <- pam(iris.scaled[,3:4], k=3)\n",
    "\n",
    "pam_km3_scaled$silinfo$clus.avg.widths\n",
    "sil_plot <- silhouette(pam_km3_scaled)\n",
    "plot(sil_plot)"
   ]
  },
  {
   "cell_type": "markdown",
   "metadata": {},
   "source": [
    "An average silhouette width when using only Petal length and Petal width as predictors has slightly improved from 0.66 to 0.67.\n",
    "Scaled vs unscaled dataset didnt matter much when using Petal length and Petal width as predictors. We were still able to achieve a `96%` clusering accuracy using `k=3`"
   ]
  },
  {
   "cell_type": "markdown",
   "metadata": {},
   "source": [
    "<font color='brown'> <strong>To conclude, using petal length and width as predictors allowed us to achieve a `96%` clustering accuracy while using `k=3`.\n",
    "If we didnt have a prior knowledge of the flower class, we can still recommend `k=3` because we could still see an improvement in our elbow plot and from our silhouette analysis plot, we see that most of our observations are well matched to their cluster </strong></font>"
   ]
  }
 ],
 "metadata": {
  "kernelspec": {
   "display_name": "R",
   "language": "R",
   "name": "ir"
  },
  "language_info": {
   "codemirror_mode": "r",
   "file_extension": ".r",
   "mimetype": "text/x-r-source",
   "name": "R",
   "pygments_lexer": "r",
   "version": "3.6.1"
  }
 },
 "nbformat": 4,
 "nbformat_minor": 2
}
